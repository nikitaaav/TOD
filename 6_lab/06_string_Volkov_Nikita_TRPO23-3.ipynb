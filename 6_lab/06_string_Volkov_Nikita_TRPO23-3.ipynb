{
 "cells": [
  {
   "cell_type": "markdown",
   "metadata": {},
   "source": [
    "# Работа со строковыми значениями"
   ]
  },
  {
   "cell_type": "markdown",
   "metadata": {},
   "source": [
    "__Автор задач: Блохин Н.В. (NVBlokhin@fa.ru)__\n",
    "\n",
    "Материалы:\n",
    "* Макрушин С.В. Лекция \"Работа со строковыми значениям\"\n",
    "* https://pyformat.info/\n",
    "* https://docs.python.org/3/library/re.html\n",
    "    * https://docs.python.org/3/library/re.html#flags\n",
    "    * https://docs.python.org/3/library/re.html#functions\n",
    "* https://pythonru.com/primery/primery-primeneniya-regulyarnyh-vyrazheniy-v-python\n",
    "* https://kanoki.org/2019/11/12/how-to-use-regex-in-pandas/\n",
    "* https://realpython.com/nltk-nlp-python/"
   ]
  },
  {
   "cell_type": "markdown",
   "metadata": {},
   "source": [
    "## Задачи для совместного разбора"
   ]
  },
  {
   "cell_type": "markdown",
   "metadata": {},
   "source": [
    "1. Вывести на экран данные из словаря `obj` построчно в виде `k = v`, задав формат таким образом, чтобы знак равенства оказался на одной и той же позиции во всех строках. Строковые литералы обернуть в кавычки."
   ]
  },
  {
   "cell_type": "code",
   "execution_count": 63,
   "metadata": {},
   "outputs": [
    {
     "name": "stdout",
     "output_type": "stream",
     "text": [
      "home_page = https://github.com/pypa/sampleproject\n",
      "keywords = sample setuptools development\n",
      "license = MIT\n"
     ]
    }
   ],
   "source": [
    "import re\n",
    "import pandas as pd\n",
    "obj = {\n",
    "    \"home_page\": \"https://github.com/pypa/sampleproject\",\n",
    "    \"keywords\": \"sample setuptools development\",\n",
    "    \"license\": \"MIT\",\n",
    "}\n",
    "for key in obj.keys():\n",
    "    print(f\"{key} = {obj[key]}\")"
   ]
  },
  {
   "cell_type": "markdown",
   "metadata": {},
   "source": [
    "2. Написать регулярное выражение,которое позволит найти номера групп студентов."
   ]
  },
  {
   "cell_type": "code",
   "execution_count": 64,
   "metadata": {},
   "outputs": [
    {
     "name": "stdout",
     "output_type": "stream",
     "text": [
      "['19-1']\n",
      "['20-4']\n",
      "['20-3']\n"
     ]
    }
   ],
   "source": [
    "obj = pd.Series([\"Евгения гр.ПМ19-1\", \"Илья пм 20-4\", \"Анна 20-3\"])\n",
    "\n",
    "p = re.compile(r'[0-9]{2}-[0-9]')\n",
    "\n",
    "for i in obj:\n",
    "    a = re.findall(p, i)\n",
    "    print(a)"
   ]
  },
  {
   "cell_type": "markdown",
   "metadata": {},
   "source": [
    "3. Разбейте текст формулировки задачи 2 на слова."
   ]
  },
  {
   "cell_type": "code",
   "execution_count": 65,
   "metadata": {},
   "outputs": [
    {
     "data": {
      "text/plain": [
       "['Написать',\n",
       " 'регулярное',\n",
       " 'выражение',\n",
       " 'которое',\n",
       " 'позволит',\n",
       " 'найти',\n",
       " 'номера',\n",
       " 'групп',\n",
       " 'студентов']"
      ]
     },
     "execution_count": 65,
     "metadata": {},
     "output_type": "execute_result"
    }
   ],
   "source": [
    "s = \"Написать регулярное выражение,которое позволит найти номера групп студентов\"\n",
    "re.split(' |,', s)"
   ]
  },
  {
   "cell_type": "markdown",
   "metadata": {},
   "source": [
    "4. Найдите в тексте все последовательности 'вол', 'воз', 'вон': \"вол, воз, вон.\n",
    "вол воБ во8 воз вок вог во4 воХ во! воь вон\" (От Калажоков З.Х.)"
   ]
  },
  {
   "cell_type": "code",
   "execution_count": 66,
   "metadata": {},
   "outputs": [
    {
     "name": "stdout",
     "output_type": "stream",
     "text": [
      "вол\n",
      "воз\n",
      "вон\n",
      "вол\n",
      "воз\n",
      "вон\n"
     ]
    }
   ],
   "source": [
    "for match in re.findall(r'во[лзн]', \"вол, воз, вон. вол воБ во8 воз вок вог во4 воХ во! воь вон\"):\n",
    "    print(match)"
   ]
  },
  {
   "cell_type": "markdown",
   "metadata": {},
   "source": [
    "5. Напишите регулярное выражение, которое найдёт все кабинеты с трёхзначным номером: 100 - 999 в строке\n",
    "\n",
    "'147 кабинет 843 кабинет 010 кабинет 514 кабинет 99 кабинет 246 кабинет 572 кабинет'.\n",
    "\n",
    "Шаблон кабинета: ddd кабинет, где d - арабская цифра. (От Калажоков З.Х.)"
   ]
  },
  {
   "cell_type": "code",
   "execution_count": 67,
   "metadata": {},
   "outputs": [
    {
     "name": "stdout",
     "output_type": "stream",
     "text": [
      "147\n",
      "843\n",
      "010\n",
      "514\n",
      "246\n",
      "572\n"
     ]
    }
   ],
   "source": [
    "s = '147 кабинет 843 кабинет 010 кабинет 514 кабинет 99 кабинет 246 кабинет 572 кабинет'\n",
    "for match in re.findall(r'[0-9][0-9][0-9]', s):\n",
    "    print(match)"
   ]
  },
  {
   "cell_type": "markdown",
   "metadata": {},
   "source": [
    "## Лабораторная работа 6"
   ]
  },
  {
   "cell_type": "markdown",
   "metadata": {},
   "source": [
    "### Форматирование строк"
   ]
  },
  {
   "cell_type": "markdown",
   "metadata": {},
   "source": [
    "1\\. Загрузите данные из файла `recipes_sample.csv` (__ЛР2__) в виде `pd.DataFrame` `recipes` При помощи форматирования строк выведите информацию об id рецепта и времени выполнения 5 случайных рецептов в виде таблицы следующего вида:\n",
    "\n",
    "    \n",
    "    |      id      |  minutes  |\n",
    "    |--------------------------|\n",
    "    |    61178     |    65     |\n",
    "    |    202352    |    80     |\n",
    "    |    364322    |    150    |\n",
    "    |    26177     |    20     |\n",
    "    |    224785    |    35     |\n",
    "    \n",
    "Обратите внимание, что ширина столбцов заранее неизвестна и должна рассчитываться динамически, в зависимости от тех данных, которые были выбраны. "
   ]
  },
  {
   "cell_type": "code",
   "execution_count": 68,
   "metadata": {},
   "outputs": [
    {
     "name": "stdout",
     "output_type": "stream",
     "text": [
      "|      id      |   minutes   |\n",
      "|----------------------------|\n",
      "|    36409     |      5      |\n",
      "|    76994     |     250     |\n",
      "|    162050    |      80     |\n",
      "|    283045    |      45     |\n",
      "|    20187     |      30     |\n"
     ]
    }
   ],
   "source": [
    "import pandas as pd\n",
    "\n",
    "recipes = pd.read_csv('recipes_sample.csv')\n",
    "random_recipes = recipes.sample(n=5)\n",
    "\n",
    "mx_ln_id = len(str(random_recipes['id'].max()))\n",
    "mx_ln_minutes = len(str(random_recipes['minutes'].max()))\n",
    "\n",
    "\n",
    "print(\"|\" + \" \"*(mx_ln_id) + \"id\" + \" \"*(mx_ln_id) + \"|\" + \" \"*(mx_ln_minutes) + \"minutes\" + \" \"*(mx_ln_minutes) + \"|\")\n",
    "print('|' + '-'*(mx_ln_id*2 + 2 + mx_ln_minutes*2 + 8) + '|')\n",
    "\n",
    "for index, row in random_recipes.iterrows ():\n",
    "    print('|' + ' '*(mx_ln_id - 2) + f'{row.id}'.ljust(mx_ln_id*2 - 2) + '|' + f'{row.minutes}'.center(7 + mx_ln_id) + '|')\n"
   ]
  },
  {
   "cell_type": "markdown",
   "metadata": {},
   "source": [
    "2\\. Напишите функцию `show_info`, которая по данным о рецепте создает строку (в смысле объекта python) с описанием следующего вида:\n",
    "\n",
    "```\n",
    "\"Название Из Нескольких Слов\"\n",
    "\n",
    "1. Шаг 1\n",
    "2. Шаг 2\n",
    "----------\n",
    "Автор: contributor_id\n",
    "Среднее время приготовления: minutes минут\n",
    "```\n",
    "\n",
    "    \n",
    "Данные для создания строки получите из файлов `recipes_sample.csv` (__ЛР2__) и `steps_sample.xml` (__ЛР3__). \n",
    "Вызовите данную функцию для рецепта с id `170895` и выведите (через `print`) полученную строку на экран."
   ]
  },
  {
   "cell_type": "code",
   "execution_count": 69,
   "metadata": {},
   "outputs": [
    {
     "name": "stdout",
     "output_type": "stream",
     "text": [
      "\"leeks and parsnips  sauteed or creamed\"\n",
      "\n",
      "1. 0. clean the leeks and discard the dark green portions\n",
      "1. cut the leeks lengthwise then into one-inch pieces\n",
      "2. melt the butter in a medium skillet , med\n",
      "3. heat\n",
      "4. add the garlic and fry 'til fragrant\n",
      "5. add leeks and fry until the leeks are tender , about 6-minutes\n",
      "6. meanwhile , peel and chunk the parsnips into one-inch pieces\n",
      "7. place in a steaming basket and steam 'til they are as tender as you prefer\n",
      "8. i like them fork-tender\n",
      "9. drain parsnips and add to the skillet with the leeks\n",
      "10. add salt and pepper\n",
      "11. gently sautee together for 5-minutes\n",
      "12. at this point you can serve it , or continue on and cream it:\n",
      "13. in a jar with a screw top , add the half-n-half and arrowroot\n",
      "14. shake 'til blended\n",
      "15. turn heat to low under the leeks and parsnips\n",
      "16. pour in the arrowroot mixture , stirring gently as you pour\n",
      "17. if too thick , gradually add the water\n",
      "18. let simmer for a couple of minutes\n",
      "19. taste to adjust seasoning , probably an additional 1 / 2 teaspoon salt\n",
      "20. serve warm\n",
      "\n",
      "----------\n",
      "Автор: 8377\n",
      "Среднее время приготовления: 27 минут\n"
     ]
    }
   ],
   "source": [
    "import pandas as pd\n",
    "import xml.etree.ElementTree as ET\n",
    "\n",
    "def show_info(recipes_data, steps_data, recipe_id):\n",
    "    # Получаем информацию о рецепте по его id\n",
    "    recipe = recipes_data[recipes_data['id'] == int(recipe_id)].squeeze()\n",
    "    \n",
    "    # Получаем шаги приготовления для данного рецепта\n",
    "    recipe_steps = steps_data[steps_data['id'] == recipe_id]\n",
    "\n",
    "    # Формируем строку с описанием рецепта\n",
    "    result_str = f'\"{recipe[\"name\"]}\"\\n\\n'\n",
    "    for i, step in enumerate(recipe_steps['steps'], start=1):\n",
    "        result_str += f'{i}. {step}\\n'\n",
    "    result_str += '----------\\n'\n",
    "    result_str += f'Автор: {recipe[\"contributor_id\"]}\\n'\n",
    "    result_str += f'Среднее время приготовления: {recipe[\"minutes\"]} минут'\n",
    "    \n",
    "    return result_str\n",
    "\n",
    "# Загрузка данных из файла recipes_sample.csv\n",
    "recipes_data = pd.read_csv('recipes_sample.csv')\n",
    "\n",
    "# Загрузка данных из файла steps_sample.xml\n",
    "prstree = ET.parse('steps_sample.xml') \n",
    "root = prstree.getroot()\n",
    "all_items = [] \n",
    "for step in root.iter('recipe'):\n",
    "    id = step.find('id').text \n",
    "    steps = ''\n",
    "    g = 0\n",
    "    for i in step.find('steps'):\n",
    "        steps += f'{g}. ' + i.text + '\\n'\n",
    "        g += 1\n",
    "    all_items.append([id, steps])\n",
    "\n",
    "steps_data = pd.DataFrame(all_items,columns=[ \n",
    "  'id','steps'])   \n",
    "\n",
    "# Вызов функции show_info для рецепта с id 170895\n",
    "recipe_id = '170895'\n",
    "recipe_info = show_info(recipes_data, steps_data, recipe_id)\n",
    "\n",
    "# Вывод полученной строки на экран\n",
    "print(recipe_info)"
   ]
  },
  {
   "cell_type": "markdown",
   "metadata": {},
   "source": [
    "## Работа с регулярными выражениями"
   ]
  },
  {
   "cell_type": "markdown",
   "metadata": {},
   "source": [
    "3\\. Напишите регулярное выражение, которое ищет следующий паттерн в строке: число (1 цифра или более), затем пробел, затем слова: hour или hours или minute или minutes. Произведите поиск по данному регулярному выражению в каждом шаге рецепта с id 25082. Выведите на экран все непустые результаты, найденные по данному шаблону."
   ]
  },
  {
   "cell_type": "code",
   "execution_count": 70,
   "metadata": {},
   "outputs": [
    {
     "name": "stdout",
     "output_type": "stream",
     "text": [
      "Найдено: 20 minutes\n",
      "Найдено: 10 minutes\n",
      "Найдено: 2 hours\n",
      "Найдено: 10 minutes\n",
      "Найдено: 20 minutes\n",
      "Найдено: 30 minutes\n"
     ]
    }
   ],
   "source": [
    "import re\n",
    "\n",
    "pattern = r'\\b(\\d+) (hour|hours|minute|minutes)\\b'\n",
    "\n",
    "for step in steps_data[steps_data['id'] == '25082']['steps']:\n",
    "    matches = re.findall(pattern, step)\n",
    "    if matches:\n",
    "        for match in matches:\n",
    "            print(f'Найдено: {match[0]} {match[1]}')"
   ]
  },
  {
   "cell_type": "markdown",
   "metadata": {},
   "source": [
    "4\\. Напишите регулярное выражение, которое ищет шаблон вида \"this..., but\" _в начале строки_ . Между словом \"this\" и частью \", but\" может находиться произвольное число букв, цифр, знаков подчеркивания и пробелов. Никаких других символов вместо многоточия быть не может. Пробел между запятой и словом \"but\" может присутствовать или отсутствовать.\n",
    "\n",
    "Используя строковые методы `pd.Series`, выясните, для каких рецептов данный шаблон содержится в тексте описания. Выведите на экран количество таких рецептов и 3 примера подходящих описаний (текст описания должен быть виден на экране полностью)."
   ]
  },
  {
   "cell_type": "code",
   "execution_count": 71,
   "metadata": {},
   "outputs": [
    {
     "name": "stdout",
     "output_type": "stream",
     "text": [
      "Количество рецептов с данным шаблоном: 132\n",
      "\n",
      "Примеры рецептов:\n",
      "<re.Match object; span=(0, 44), match='this is a great meal eaten the same day ,but'>\n",
      "<re.Match object; span=(0, 54), match='this was adapted from a recipe i found on the net>\n",
      "<re.Match object; span=(0, 68), match='this is kind of similar to some of the other vers>\n"
     ]
    }
   ],
   "source": [
    "import pandas as pd\n",
    "\n",
    "recipes = pd.read_csv('recipes_sample.csv')\n",
    "\n",
    "# Предположим, что у нас есть объект Series с текстами описаний рецептов\n",
    "descriptions = recipes['description']\n",
    "\n",
    "# Регулярное выражение для поиска шаблона \"this..., but\" в начале строки\n",
    "pattern = r'^this[\\w\\s]*,\\s?but\\b'\n",
    "\n",
    "# Поиск рецептов, содержащих данный шаблон\n",
    "matching_recipes = []\n",
    "for i in range(descriptions.size):\n",
    "    if re.search(pattern, str(descriptions[i])) != None:\n",
    "        matching_recipes.append(re.search(pattern, descriptions[i]))\n",
    "# Вывод количества совпадающих рецептов и 3 примеров таких рецептов\n",
    "print(f\"Количество рецептов с данным шаблоном: {len(matching_recipes)}\")\n",
    "print(\"\\nПримеры рецептов:\")\n",
    "for description in matching_recipes[:3]:\n",
    "    print(str(description))\n",
    "    "
   ]
  },
  {
   "cell_type": "markdown",
   "metadata": {},
   "source": [
    "5\\. В текстах шагов рецептов обыкновенные дроби имеют вид \"a / b\". Используя регулярные выражения, уберите в тексте шагов рецепта с id 72367 пробелы до и после символа дроби. Выведите на экран шаги этого рецепта после их изменения."
   ]
  },
  {
   "cell_type": "code",
   "execution_count": 72,
   "metadata": {},
   "outputs": [
    {
     "name": "stdout",
     "output_type": "stream",
     "text": [
      "0. mix butter , flour , 1/3 c\\n1. sugar and 1...\n"
     ]
    }
   ],
   "source": [
    "import re\n",
    "\n",
    "recipe_steps = steps_data[steps_data['id'] == '72367']['steps'].to_string(index=False)\n",
    "\n",
    "pattern = r'\\s*/\\s*'\n",
    "\n",
    "modified_steps = re.sub(pattern, '/', recipe_steps)\n",
    "\n",
    "print(modified_steps)"
   ]
  },
  {
   "cell_type": "markdown",
   "metadata": {},
   "source": [
    "### Сегментация текста"
   ]
  },
  {
   "cell_type": "markdown",
   "metadata": {},
   "source": [
    "6\\. Разбейте тексты шагов рецептов на слова при помощи пакета `nltk`. Посчитайте и выведите на экран кол-во уникальных слов среди всех рецептов. Словом называется любая последовательность алфавитных символов (для проверки можно воспользоваться `str.isalpha`). При подсчете количества уникальных слов не учитывайте регистр."
   ]
  },
  {
   "cell_type": "code",
   "execution_count": 73,
   "metadata": {},
   "outputs": [
    {
     "name": "stdout",
     "output_type": "stream",
     "text": [
      "Requirement already satisfied: nltk in c:\\anaconda\\lib\\site-packages (3.8.1)\n",
      "Requirement already satisfied: click in c:\\anaconda\\lib\\site-packages (from nltk) (8.0.4)\n",
      "Requirement already satisfied: joblib in c:\\anaconda\\lib\\site-packages (from nltk) (1.2.0)\n",
      "Requirement already satisfied: regex>=2021.8.3 in c:\\anaconda\\lib\\site-packages (from nltk) (2022.7.9)\n",
      "Requirement already satisfied: tqdm in c:\\anaconda\\lib\\site-packages (from nltk) (4.65.0)\n",
      "Requirement already satisfied: colorama in c:\\anaconda\\lib\\site-packages (from click->nltk) (0.4.6)\n"
     ]
    }
   ],
   "source": [
    "! pip install nltk"
   ]
  },
  {
   "cell_type": "code",
   "execution_count": 76,
   "metadata": {},
   "outputs": [
    {
     "name": "stdout",
     "output_type": "stream",
     "text": [
      "Количество уникальных слов среди всех рецептов: 14922\n"
     ]
    }
   ],
   "source": [
    "import nltk\n",
    "from nltk.tokenize import word_tokenize\n",
    "import string\n",
    "\n",
    "unique_words = set()\n",
    "steps = []\n",
    "\n",
    "for index, row in steps_data.iterrows ():\n",
    "    steps.append(row['steps'])\n",
    "\n",
    "for step in steps:\n",
    "    words = word_tokenize(step, language='english')\n",
    "    for word in words:\n",
    "        word = word.lower()\n",
    "        if all(char.isalpha() for char in word):\n",
    "            unique_words.add(word)\n",
    "\n",
    "print(f\"Количество уникальных слов среди всех рецептов: {len(unique_words)}\")\n"
   ]
  },
  {
   "cell_type": "markdown",
   "metadata": {},
   "source": [
    "7\\. Разбейте описания рецептов из `recipes` на предложения при помощи пакета `nltk`. Найдите 5 самых длинных описаний (по количеству _предложений_) рецептов в датасете и выведите строки фрейма, соответствующие этим рецептами, в порядке убывания длины."
   ]
  },
  {
   "cell_type": "code",
   "execution_count": null,
   "metadata": {},
   "outputs": [],
   "source": [
    "descr = recipes['description']\n",
    "\n",
    "\n",
    "top_5_longest = recipes.nlargest(5, 'Num Sentences')\n",
    "print(top_5_longest[['Recipe', 'Num Sentences']])"
   ]
  },
  {
   "cell_type": "markdown",
   "metadata": {},
   "source": [
    "8\\. Напишите функцию, которая для заданного предложения выводит информацию о частях речи слов, входящих в предложение, в следующем виде:\n",
    "```\n",
    "PRP   VBD   DT      NNS     CC   VBD      NNS        RB   \n",
    " I  omitted the raspberries and added strawberries instead\n",
    "``` \n",
    "Для определения части речи слова можно воспользоваться `nltk.pos_tag`.\n",
    "\n",
    "Проверьте работоспособность функции на названии рецепта с id 241106.\n",
    "\n",
    "Обратите внимание, что часть речи должна находиться ровно посередине над соотвествующим словом, а между самими словами должен быть ровно один пробел.\n"
   ]
  },
  {
   "cell_type": "code",
   "execution_count": null,
   "metadata": {},
   "outputs": [],
   "source": []
  }
 ],
 "metadata": {
  "kernelspec": {
   "display_name": "Python 3 (ipykernel)",
   "language": "python",
   "name": "python3"
  },
  "language_info": {
   "codemirror_mode": {
    "name": "ipython",
    "version": 3
   },
   "file_extension": ".py",
   "mimetype": "text/x-python",
   "name": "python",
   "nbconvert_exporter": "python",
   "pygments_lexer": "ipython3",
   "version": "3.11.5"
  }
 },
 "nbformat": 4,
 "nbformat_minor": 4
}
